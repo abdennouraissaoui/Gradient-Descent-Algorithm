{
 "cells": [
  {
   "cell_type": "code",
   "execution_count": 1,
   "metadata": {},
   "outputs": [],
   "source": [
    "import pandas as pd\n",
    "import numpy as np\n"
   ]
  },
  {
   "cell_type": "code",
   "execution_count": 2,
   "metadata": {},
   "outputs": [],
   "source": [
    "# Design Matrix\n",
    "x = np.matrix(data=[np.linspace(1, 30, 30), np.linspace(20, 25,30)])\n",
    "\n",
    "# Actual weights/coefficients\n",
    "w = np.array([3, -5])\n",
    "\n",
    "# compute the target, with normally distributed noise \n",
    "t = w.dot(x) + np.random.normal(0, 4, 30)"
   ]
  },
  {
   "cell_type": "code",
   "execution_count": 3,
   "metadata": {},
   "outputs": [],
   "source": [
    "def find_params(initial_guess, min_change, learning_rate, max_iterations):\n",
    "    cur_best_guess = np.array(initial_guess)\n",
    "    i = 0\n",
    "    while i < max_iterations:\n",
    "        y = cur_best_guess * x\n",
    "        derivative = np.array((y - t) * x.transpose() / y.shape[1])[0]\n",
    "        new_guess = cur_best_guess - learning_rate * derivative\n",
    "        if all(abs(new_guess - cur_best_guess) < min_change):\n",
    "            break\n",
    "        cur_best_guess = new_guess\n",
    "        i+=1\n",
    "\n",
    "    return cur_best_guess"
   ]
  },
  {
   "cell_type": "code",
   "execution_count": 4,
   "metadata": {},
   "outputs": [
    {
     "data": {
      "text/plain": [
       "array([ 3.02418726, -5.0342573 ])"
      ]
     },
     "execution_count": 4,
     "metadata": {},
     "output_type": "execute_result"
    }
   ],
   "source": [
    "find_params(initial_guess= [-1, 1], min_change=0.00001, learning_rate=0.0001, max_iterations=10000)"
   ]
  }
 ],
 "metadata": {
  "kernelspec": {
   "display_name": "Python 3",
   "language": "python",
   "name": "python3"
  },
  "language_info": {
   "codemirror_mode": {
    "name": "ipython",
    "version": 3
   },
   "file_extension": ".py",
   "mimetype": "text/x-python",
   "name": "python",
   "nbconvert_exporter": "python",
   "pygments_lexer": "ipython3",
   "version": "3.7.3"
  }
 },
 "nbformat": 4,
 "nbformat_minor": 2
}
